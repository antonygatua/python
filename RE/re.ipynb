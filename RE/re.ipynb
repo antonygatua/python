{
 "cells": [
  {
   "attachments": {},
   "cell_type": "markdown",
   "metadata": {},
   "source": [
    "# Regular Expressions\n",
    "\n",
    "* This notebooks details the use of regular expressions in python."
   ]
  },
  {
   "cell_type": "code",
   "execution_count": 1,
   "metadata": {},
   "outputs": [],
   "source": [
    "import re"
   ]
  },
  {
   "attachments": {},
   "cell_type": "markdown",
   "metadata": {},
   "source": [
    "## Special Characters"
   ]
  },
  {
   "attachments": {},
   "cell_type": "markdown",
   "metadata": {},
   "source": [
    "* `^`: *Caret* Matches the start of a string, and in `MULTILINE` mode also matches immediately after each newline.\n"
   ]
  },
  {
   "cell_type": "code",
   "execution_count": 4,
   "metadata": {},
   "outputs": [
    {
     "name": "stdout",
     "output_type": "stream",
     "text": [
      "The string starts with 'hello'.\n"
     ]
    }
   ],
   "source": [
    "txt = \"Hello World, Today is a special day.\"\n",
    "\n",
    "# check if the string starts with 'hello'\n",
    "\n",
    "x = re.findall('^Hello', txt)\n",
    "\n",
    "if x:\n",
    "    print(\"The string starts with 'hello'.\")\n",
    "else:\n",
    "    print(\"What are you on about, Mate!\")"
   ]
  },
  {
   "attachments": {},
   "cell_type": "markdown",
   "metadata": {},
   "source": [
    "* `.`: Dot matches any character except a new line."
   ]
  },
  {
   "cell_type": "code",
   "execution_count": 7,
   "metadata": {},
   "outputs": [
    {
     "name": "stdout",
     "output_type": "stream",
     "text": [
      "['is', 'ia']\n"
     ]
    }
   ],
   "source": [
    "txt = \"Hello World, Today is a special day.\"\n",
    "\n",
    "# search for a sequence that starts with \"i\" followed by any character\n",
    "\n",
    "x = re.findall(\"i.\", txt)\n",
    "\n",
    "if x:\n",
    "    print(x)\n",
    "else:\n",
    "    print(\"uh-hu!\")"
   ]
  },
  {
   "attachments": {},
   "cell_type": "markdown",
   "metadata": {},
   "source": [
    "* Special has the character **i** follwed by **a**."
   ]
  },
  {
   "cell_type": "code",
   "execution_count": 8,
   "metadata": {},
   "outputs": [
    {
     "name": "stdout",
     "output_type": "stream",
     "text": [
      "['World']\n"
     ]
    }
   ],
   "source": [
    "txt = \"Hello World, Today is a special day.\"\n",
    "\n",
    "# search for a sequence that starts with \"Wo\" followed by any two characters and ends with 'd'\n",
    "\n",
    "x = re.findall(\"Wo..d\", txt)\n",
    "\n",
    "if x:\n",
    "    print(x)\n",
    "else:\n",
    "    print(\"uh-hu!\")"
   ]
  },
  {
   "attachments": {},
   "cell_type": "markdown",
   "metadata": {},
   "source": [
    "* `$`: Matches the end of the string or just before the newline at the end of a string."
   ]
  },
  {
   "cell_type": "code",
   "execution_count": 11,
   "metadata": {},
   "outputs": [
    {
     "name": "stdout",
     "output_type": "stream",
     "text": [
      "The string ends with awful.\n"
     ]
    }
   ],
   "source": [
    "txt = \"The food was awful\"\n",
    "\n",
    "# check if the string ends with 'awful'\n",
    "\n",
    "x = re.findall(\"awful$\", txt)\n",
    "\n",
    "if x:\n",
    "    print(f\"The string ends with {x[0]}.\") # x is a list\n",
    "else:\n",
    "    print(\"Oh-my-Days!!\")"
   ]
  },
  {
   "attachments": {},
   "cell_type": "markdown",
   "metadata": {},
   "source": [
    "\n",
    "* `\\`: Backlash ensures that the character is not treated in a special way."
   ]
  },
  {
   "cell_type": "code",
   "execution_count": 23,
   "metadata": {},
   "outputs": [
    {
     "name": "stdout",
     "output_type": "stream",
     "text": [
      "Nada!\n"
     ]
    }
   ],
   "source": [
    "txt = \"google123@gmail.com\"\n",
    "\n",
    "# without using \\\n",
    "x = re.findall(r'd', txt)\n",
    "\n",
    "if x:\n",
    "    print(x)\n",
    "else:\n",
    "    print(\"Nada!\")"
   ]
  },
  {
   "cell_type": "code",
   "execution_count": 22,
   "metadata": {},
   "outputs": [
    {
     "name": "stdout",
     "output_type": "stream",
     "text": [
      "['1', '2', '3']\n"
     ]
    }
   ],
   "source": [
    "txt = \"google123@gmail.com\"\n",
    "\n",
    "# using \\\n",
    "x = re.findall(r'\\d', txt)\n",
    "\n",
    "if x:\n",
    "    print(x)\n",
    "else:\n",
    "    print(\"Nada!\")"
   ]
  },
  {
   "attachments": {},
   "cell_type": "markdown",
   "metadata": {},
   "source": [
    "* `[]`: Square brackets represent a set of characters where characters can be listed individually, range of characters can be indicated by giving two characters and separating them by a `-`."
   ]
  },
  {
   "cell_type": "code",
   "execution_count": 28,
   "metadata": {},
   "outputs": [
    {
     "name": "stdout",
     "output_type": "stream",
     "text": [
      "['R', 'o', 'm', 'a', 'a', 'o', 'm']\n",
      "['a', 'a']\n"
     ]
    }
   ],
   "source": [
    "txt = \"Roma have risen from their ruins!!\"\n",
    "\n",
    "# find list of individual characters\n",
    "\n",
    "x = re.findall(\"[Roma]\", txt)\n",
    "\n",
    "print(x)\n",
    "\n",
    "# set of characters\n",
    "\n",
    "y = re.findall('[a-c]', txt)\n",
    "\n",
    "print(y)"
   ]
  }
 ],
 "metadata": {
  "kernelspec": {
   "display_name": "Python 3",
   "language": "python",
   "name": "python3"
  },
  "language_info": {
   "codemirror_mode": {
    "name": "ipython",
    "version": 3
   },
   "file_extension": ".py",
   "mimetype": "text/x-python",
   "name": "python",
   "nbconvert_exporter": "python",
   "pygments_lexer": "ipython3",
   "version": "3.10.9"
  },
  "orig_nbformat": 4,
  "vscode": {
   "interpreter": {
    "hash": "e7370f93d1d0cde622a1f8e1c04877d8463912d04d973331ad4851f04de6915a"
   }
  }
 },
 "nbformat": 4,
 "nbformat_minor": 2
}
